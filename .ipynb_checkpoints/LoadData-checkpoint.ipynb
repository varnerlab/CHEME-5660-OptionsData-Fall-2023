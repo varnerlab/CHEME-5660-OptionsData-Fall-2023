{
 "cells": [
  {
   "cell_type": "markdown",
   "id": "ec07121b-9bb9-4792-9249-57b11c238be6",
   "metadata": {},
   "source": [
    "# Load options data files\n",
    "I've downloaded the options data for the `tickers` you requested for both `call` and `put` contracts for 45-day contracts starting on `2023-01-03`. Let's walk through the `call` contract data (the `put` contract procedure is the same; we change the `jld2` file name to `Options-Put-Daily-OHLC-45d-2023.jld2`)"
   ]
  },
  {
   "cell_type": "markdown",
   "id": "0a434aa8-cb8e-43ce-8f38-a8e22ff4dd80",
   "metadata": {},
   "source": [
    "## Setup"
   ]
  },
  {
   "cell_type": "code",
   "execution_count": 3,
   "id": "39b19abd-3d21-41d9-9650-fbeae9791c89",
   "metadata": {},
   "outputs": [],
   "source": [
    "include(\"Include.jl\")"
   ]
  },
  {
   "cell_type": "markdown",
   "id": "648ebeb4-f7da-4975-8774-7e7246f023bc",
   "metadata": {},
   "source": [
    "## Load `call` contract data\n",
    "We downloaded data for 45-day contracts starting on `2023-01-03` and running through `2023`. The date information for each contract is given in the `call_contract_dates` variable. This is a `Tuple` that holds the day the contract was sold (`index = 1`), the day the contract expires (`index = 2`), and the number of days of the contract (`index=3`):"
   ]
  },
  {
   "cell_type": "code",
   "execution_count": 10,
   "id": "5080ab6a-7def-4fcc-8d08-846fd6802b5f",
   "metadata": {},
   "outputs": [
    {
     "data": {
      "text/plain": [
       "8-element Vector{Tuple{Date, Date, Int64}}:\n",
       " (Date(\"2023-01-03\"), Date(\"2023-02-17\"), 45)\n",
       " (Date(\"2023-02-22\"), Date(\"2023-04-14\"), 51)\n",
       " (Date(\"2023-04-17\"), Date(\"2023-06-02\"), 46)\n",
       " (Date(\"2023-06-05\"), Date(\"2023-07-21\"), 46)\n",
       " (Date(\"2023-07-24\"), Date(\"2023-09-08\"), 46)\n",
       " (Date(\"2023-09-11\"), Date(\"2023-10-27\"), 46)\n",
       " (Date(\"2023-10-30\"), Date(\"2023-12-15\"), 46)\n",
       " (Date(\"2023-12-18\"), Date(\"2024-02-02\"), 46)"
      ]
     },
     "execution_count": 10,
     "metadata": {},
     "output_type": "execute_result"
    }
   ],
   "source": [
    "call_contract_dates = load(joinpath(_PATH_TO_DATA, \"Options-Call-Daily-OHLC-45d-2023.jld2\")) |> x -> x[\"dates\"]"
   ]
  },
  {
   "cell_type": "markdown",
   "id": "8837728a-d279-46a3-a7b7-6bbe3ced45f4",
   "metadata": {},
   "source": [
    "To see the price information for each `call` contract, we load the `call_contract_data` dictionary. This data structure holds the price values for each ticker and each date combination. "
   ]
  },
  {
   "cell_type": "code",
   "execution_count": 11,
   "id": "60b81fdf-a551-4272-b86b-91faf8570fc5",
   "metadata": {},
   "outputs": [
    {
     "data": {
      "text/plain": [
       "Dict{Tuple, NamedTuple} with 56 entries:\n",
       "  (\"ADBE\", Date(\"2023-02-2… => (data = Dict{Float64, Union{Nothing, DataFrame}}…\n",
       "  (\"SPY\", Date(\"2023-07-24… => (data = Dict{Float64, Union{Nothing, DataFrame}}…\n",
       "  (\"ADBE\", Date(\"2023-06-0… => (data = Dict{Float64, Union{Nothing, DataFrame}}…\n",
       "  (\"NVDA\", Date(\"2023-09-1… => (data = Dict{Float64, Union{Nothing, DataFrame}}…\n",
       "  (\"ADBE\", Date(\"2023-04-1… => (data = Dict{Float64, Union{Nothing, DataFrame}}…\n",
       "  (\"GS\", Date(\"2023-04-17\"… => (data = Dict{Float64, Union{Nothing, DataFrame}}…\n",
       "  (\"QQQ\", Date(\"2023-04-17… => (data = Dict{Float64, Union{Nothing, DataFrame}}…\n",
       "  (\"MSFT\", Date(\"2023-02-2… => (data = Dict{Float64, Union{Nothing, DataFrame}}…\n",
       "  (\"SPY\", Date(\"2023-06-05… => (data = Dict{Float64, Union{Nothing, DataFrame}}…\n",
       "  (\"AMD\", Date(\"2023-06-05… => (data = Dict{Float64, Union{Nothing, DataFrame}}…\n",
       "  (\"MSFT\", Date(\"2023-04-1… => (data = Dict{Float64, Union{Nothing, DataFrame}}…\n",
       "  (\"MSFT\", Date(\"2023-06-0… => (data = Dict{Float64, Union{Nothing, DataFrame}}…\n",
       "  (\"QQQ\", Date(\"2023-01-03… => (data = Dict{Float64, Union{Nothing, DataFrame}}…\n",
       "  (\"MSFT\", Date(\"2023-07-2… => (data = Dict{Float64, Union{Nothing, DataFrame}}…\n",
       "  (\"AAPL\", Date(\"2023-04-1… => (data = Dict{Float64, Union{Nothing, DataFrame}}…\n",
       "  (\"ADBE\", Date(\"2023-07-2… => (data = Dict{Float64, Union{Nothing, DataFrame}}…\n",
       "  (\"AMD\", Date(\"2023-04-17… => (data = Dict{Float64, Union{Nothing, DataFrame}}…\n",
       "  (\"AMD\", Date(\"2023-01-03… => (data = Dict{Float64, Union{Nothing, DataFrame}}…\n",
       "  (\"MSFT\", Date(\"2023-01-0… => (data = Dict{Float64, Union{Nothing, DataFrame}}…\n",
       "  (\"AMD\", Date(\"2023-02-22… => (data = Dict{Float64, Union{Nothing, DataFrame}}…\n",
       "  (\"AMD\", Date(\"2023-10-30… => (data = Dict{Float64, Union{Nothing, DataFrame}}…\n",
       "  (\"SPY\", Date(\"2023-01-03… => (data = Dict{Float64, Union{Nothing, DataFrame}}…\n",
       "  (\"AAPL\", Date(\"2023-09-1… => (data = Dict{Float64, Union{Nothing, DataFrame}}…\n",
       "  (\"MSFT\", Date(\"2023-10-3… => (data = Dict{Float64, Union{Nothing, DataFrame}}…\n",
       "  (\"SPY\", Date(\"2023-09-11… => (data = Dict{Float64, Union{Nothing, DataFrame}}…\n",
       "  ⋮                         => ⋮"
      ]
     },
     "execution_count": 11,
     "metadata": {},
     "output_type": "execute_result"
    }
   ],
   "source": [
    "call_contract_data = load(joinpath(_PATH_TO_DATA, \"Options-Call-Daily-OHLC-45d-2023.jld2\")) |> x -> x[\"dataset\"]"
   ]
  },
  {
   "cell_type": "markdown",
   "id": "6f938e91-34a2-4474-a37b-6ae89322ad3e",
   "metadata": {},
   "source": [
    "We access this information by constructing a `tuple,` with the first item being the `ticker,` the second being the `sell` data, and the third item being the expiration date.\n",
    "* For example, to look at the data for an `AMD` call sold on `2023-06-05` and expiring on `2023-07-21`, the `key` would be:"
   ]
  },
  {
   "cell_type": "code",
   "execution_count": 15,
   "id": "a2b30422-2680-4b5e-8f49-518628629723",
   "metadata": {},
   "outputs": [],
   "source": [
    "test_key = (\"AMD\", Date(\"2023-06-05\"), Date(\"2023-07-21\"));"
   ]
  },
  {
   "cell_type": "markdown",
   "id": "c3bfc254-6010-48d0-8a25-942dad85b700",
   "metadata": {},
   "source": [
    "passing this `key` into the `call_contract_data` dictionary gives us a `dictionary` holding the `OHLC` data for several strike prices:"
   ]
  },
  {
   "cell_type": "code",
   "execution_count": 17,
   "id": "07b30610-5ab5-4cbc-8e27-70f59904c26b",
   "metadata": {},
   "outputs": [
    {
     "data": {
      "text/plain": [
       "Dict{Float64, Union{Nothing, DataFrame}} with 13 entries:\n",
       "  100.0 => \u001b[1m33×8 DataFrame\u001b[0m\u001b[0m…\n",
       "  150.0 => \u001b[1m33×8 DataFrame\u001b[0m\u001b[0m…\n",
       "  95.0  => \u001b[1m33×8 DataFrame\u001b[0m\u001b[0m…\n",
       "  105.0 => \u001b[1m33×8 DataFrame\u001b[0m\u001b[0m…\n",
       "  110.0 => \u001b[1m33×8 DataFrame\u001b[0m\u001b[0m…\n",
       "  90.0  => \u001b[1m33×8 DataFrame\u001b[0m\u001b[0m…\n",
       "  135.0 => \u001b[1m33×8 DataFrame\u001b[0m\u001b[0m…\n",
       "  145.0 => \u001b[1m33×8 DataFrame\u001b[0m\u001b[0m…\n",
       "  120.0 => \u001b[1m33×8 DataFrame\u001b[0m\u001b[0m…\n",
       "  115.0 => \u001b[1m33×8 DataFrame\u001b[0m\u001b[0m…\n",
       "  125.0 => \u001b[1m33×8 DataFrame\u001b[0m\u001b[0m…\n",
       "  130.0 => \u001b[1m33×8 DataFrame\u001b[0m\u001b[0m…\n",
       "  140.0 => \u001b[1m33×8 DataFrame\u001b[0m\u001b[0m…"
      ]
     },
     "execution_count": 17,
     "metadata": {},
     "output_type": "execute_result"
    }
   ],
   "source": [
    "AMD = call_contract_data[test_key] |> x-> x[:data]"
   ]
  },
  {
   "cell_type": "markdown",
   "id": "2c0fd18d-dffe-4ecc-8313-3481c5dbe8cb",
   "metadata": {},
   "source": [
    "We can look at a particular strike price by passing that strike into the dictionary. For example, let's look at the `K = 110` strike:"
   ]
  },
  {
   "cell_type": "code",
   "execution_count": 18,
   "id": "3c401ea3-8849-4c39-ab63-f54a0f6ccd64",
   "metadata": {},
   "outputs": [
    {
     "data": {
      "text/html": [
       "<div><div style = \"float: left;\"><span>33×8 DataFrame</span></div><div style = \"float: right;\"><span style = \"font-style: italic;\">8 rows omitted</span></div><div style = \"clear: both;\"></div></div><div class = \"data-frame\" style = \"overflow-x: scroll;\"><table class = \"data-frame\" style = \"margin-bottom: 6px;\"><thead><tr class = \"header\"><th class = \"rowNumber\" style = \"font-weight: bold; text-align: right;\">Row</th><th style = \"text-align: left;\">volume</th><th style = \"text-align: left;\">volume_weighted_average_price</th><th style = \"text-align: left;\">open</th><th style = \"text-align: left;\">close</th><th style = \"text-align: left;\">high</th><th style = \"text-align: left;\">low</th><th style = \"text-align: left;\">timestamp</th><th style = \"text-align: left;\">number_of_transactions</th></tr><tr class = \"subheader headerLastRow\"><th class = \"rowNumber\" style = \"font-weight: bold; text-align: right;\"></th><th title = \"Float64\" style = \"text-align: left;\">Float64</th><th title = \"Float64\" style = \"text-align: left;\">Float64</th><th title = \"Float64\" style = \"text-align: left;\">Float64</th><th title = \"Float64\" style = \"text-align: left;\">Float64</th><th title = \"Float64\" style = \"text-align: left;\">Float64</th><th title = \"Float64\" style = \"text-align: left;\">Float64</th><th title = \"DateTime\" style = \"text-align: left;\">DateTime</th><th title = \"Int64\" style = \"text-align: left;\">Int64</th></tr></thead><tbody><tr><td class = \"rowNumber\" style = \"font-weight: bold; text-align: right;\">1</td><td style = \"text-align: right;\">132.0</td><td style = \"text-align: right;\">12.658</td><td style = \"text-align: right;\">11.45</td><td style = \"text-align: right;\">12.6</td><td style = \"text-align: right;\">13.6</td><td style = \"text-align: right;\">11.45</td><td style = \"text-align: left;\">2023-06-05T04:00:00</td><td style = \"text-align: right;\">58</td></tr><tr><td class = \"rowNumber\" style = \"font-weight: bold; text-align: right;\">2</td><td style = \"text-align: right;\">1482.0</td><td style = \"text-align: right;\">16.3047</td><td style = \"text-align: right;\">12.5</td><td style = \"text-align: right;\">17.3</td><td style = \"text-align: right;\">17.4</td><td style = \"text-align: right;\">12.5</td><td style = \"text-align: left;\">2023-06-06T04:00:00</td><td style = \"text-align: right;\">164</td></tr><tr><td class = \"rowNumber\" style = \"font-weight: bold; text-align: right;\">3</td><td style = \"text-align: right;\">1217.0</td><td style = \"text-align: right;\">15.3421</td><td style = \"text-align: right;\">17.36</td><td style = \"text-align: right;\">12.45</td><td style = \"text-align: right;\">17.9</td><td style = \"text-align: right;\">11.9</td><td style = \"text-align: left;\">2023-06-07T04:00:00</td><td style = \"text-align: right;\">173</td></tr><tr><td class = \"rowNumber\" style = \"font-weight: bold; text-align: right;\">4</td><td style = \"text-align: right;\">532.0</td><td style = \"text-align: right;\">14.826</td><td style = \"text-align: right;\">12.57</td><td style = \"text-align: right;\">14.65</td><td style = \"text-align: right;\">15.7</td><td style = \"text-align: right;\">12.15</td><td style = \"text-align: left;\">2023-06-08T04:00:00</td><td style = \"text-align: right;\">106</td></tr><tr><td class = \"rowNumber\" style = \"font-weight: bold; text-align: right;\">5</td><td style = \"text-align: right;\">607.0</td><td style = \"text-align: right;\">18.357</td><td style = \"text-align: right;\">17.1</td><td style = \"text-align: right;\">17.71</td><td style = \"text-align: right;\">19.88</td><td style = \"text-align: right;\">17.1</td><td style = \"text-align: left;\">2023-06-09T04:00:00</td><td style = \"text-align: right;\">125</td></tr><tr><td class = \"rowNumber\" style = \"font-weight: bold; text-align: right;\">6</td><td style = \"text-align: right;\">304.0</td><td style = \"text-align: right;\">20.8748</td><td style = \"text-align: right;\">22.0</td><td style = \"text-align: right;\">21.14</td><td style = \"text-align: right;\">22.55</td><td style = \"text-align: right;\">19.25</td><td style = \"text-align: left;\">2023-06-12T04:00:00</td><td style = \"text-align: right;\">120</td></tr><tr><td class = \"rowNumber\" style = \"font-weight: bold; text-align: right;\">7</td><td style = \"text-align: right;\">718.0</td><td style = \"text-align: right;\">18.4364</td><td style = \"text-align: right;\">23.97</td><td style = \"text-align: right;\">16.9</td><td style = \"text-align: right;\">23.97</td><td style = \"text-align: right;\">16.3</td><td style = \"text-align: left;\">2023-06-13T04:00:00</td><td style = \"text-align: right;\">186</td></tr><tr><td class = \"rowNumber\" style = \"font-weight: bold; text-align: right;\">8</td><td style = \"text-align: right;\">196.0</td><td style = \"text-align: right;\">18.4055</td><td style = \"text-align: right;\">17.55</td><td style = \"text-align: right;\">19.27</td><td style = \"text-align: right;\">19.5</td><td style = \"text-align: right;\">16.8</td><td style = \"text-align: left;\">2023-06-14T04:00:00</td><td style = \"text-align: right;\">61</td></tr><tr><td class = \"rowNumber\" style = \"font-weight: bold; text-align: right;\">9</td><td style = \"text-align: right;\">229.0</td><td style = \"text-align: right;\">16.1159</td><td style = \"text-align: right;\">17.55</td><td style = \"text-align: right;\">16.5</td><td style = \"text-align: right;\">17.55</td><td style = \"text-align: right;\">15.0</td><td style = \"text-align: left;\">2023-06-15T04:00:00</td><td style = \"text-align: right;\">81</td></tr><tr><td class = \"rowNumber\" style = \"font-weight: bold; text-align: right;\">10</td><td style = \"text-align: right;\">410.0</td><td style = \"text-align: right;\">13.4115</td><td style = \"text-align: right;\">16.0</td><td style = \"text-align: right;\">12.85</td><td style = \"text-align: right;\">16.0</td><td style = \"text-align: right;\">12.8</td><td style = \"text-align: left;\">2023-06-16T04:00:00</td><td style = \"text-align: right;\">77</td></tr><tr><td class = \"rowNumber\" style = \"font-weight: bold; text-align: right;\">11</td><td style = \"text-align: right;\">315.0</td><td style = \"text-align: right;\">11.745</td><td style = \"text-align: right;\">12.2</td><td style = \"text-align: right;\">11.76</td><td style = \"text-align: right;\">13.7</td><td style = \"text-align: right;\">10.97</td><td style = \"text-align: left;\">2023-06-20T04:00:00</td><td style = \"text-align: right;\">82</td></tr><tr><td class = \"rowNumber\" style = \"font-weight: bold; text-align: right;\">12</td><td style = \"text-align: right;\">1054.0</td><td style = \"text-align: right;\">7.9293</td><td style = \"text-align: right;\">11.55</td><td style = \"text-align: right;\">6.91</td><td style = \"text-align: right;\">11.55</td><td style = \"text-align: right;\">6.79</td><td style = \"text-align: left;\">2023-06-21T04:00:00</td><td style = \"text-align: right;\">297</td></tr><tr><td class = \"rowNumber\" style = \"font-weight: bold; text-align: right;\">13</td><td style = \"text-align: right;\">11855.0</td><td style = \"text-align: right;\">6.1835</td><td style = \"text-align: right;\">6.91</td><td style = \"text-align: right;\">5.9</td><td style = \"text-align: right;\">8.06</td><td style = \"text-align: right;\">5.43</td><td style = \"text-align: left;\">2023-06-22T04:00:00</td><td style = \"text-align: right;\">453</td></tr><tr><td style = \"text-align: right;\">&vellip;</td><td style = \"text-align: right;\">&vellip;</td><td style = \"text-align: right;\">&vellip;</td><td style = \"text-align: right;\">&vellip;</td><td style = \"text-align: right;\">&vellip;</td><td style = \"text-align: right;\">&vellip;</td><td style = \"text-align: right;\">&vellip;</td><td style = \"text-align: right;\">&vellip;</td><td style = \"text-align: right;\">&vellip;</td></tr><tr><td class = \"rowNumber\" style = \"font-weight: bold; text-align: right;\">22</td><td style = \"text-align: right;\">986.0</td><td style = \"text-align: right;\">5.1197</td><td style = \"text-align: right;\">5.12</td><td style = \"text-align: right;\">5.91</td><td style = \"text-align: right;\">6.0</td><td style = \"text-align: right;\">4.06</td><td style = \"text-align: left;\">2023-07-06T04:00:00</td><td style = \"text-align: right;\">334</td></tr><tr><td class = \"rowNumber\" style = \"font-weight: bold; text-align: right;\">23</td><td style = \"text-align: right;\">662.0</td><td style = \"text-align: right;\">6.1556</td><td style = \"text-align: right;\">6.0</td><td style = \"text-align: right;\">5.29</td><td style = \"text-align: right;\">6.85</td><td style = \"text-align: right;\">5.2</td><td style = \"text-align: left;\">2023-07-07T04:00:00</td><td style = \"text-align: right;\">213</td></tr><tr><td class = \"rowNumber\" style = \"font-weight: bold; text-align: right;\">24</td><td style = \"text-align: right;\">1860.0</td><td style = \"text-align: right;\">4.0396</td><td style = \"text-align: right;\">5.01</td><td style = \"text-align: right;\">5.35</td><td style = \"text-align: right;\">5.39</td><td style = \"text-align: right;\">3.33</td><td style = \"text-align: left;\">2023-07-10T04:00:00</td><td style = \"text-align: right;\">420</td></tr><tr><td class = \"rowNumber\" style = \"font-weight: bold; text-align: right;\">25</td><td style = \"text-align: right;\">8423.0</td><td style = \"text-align: right;\">3.5037</td><td style = \"text-align: right;\">4.44</td><td style = \"text-align: right;\">3.76</td><td style = \"text-align: right;\">5.1</td><td style = \"text-align: right;\">2.95</td><td style = \"text-align: left;\">2023-07-11T04:00:00</td><td style = \"text-align: right;\">1353</td></tr><tr><td class = \"rowNumber\" style = \"font-weight: bold; text-align: right;\">26</td><td style = \"text-align: right;\">1912.0</td><td style = \"text-align: right;\">5.3105</td><td style = \"text-align: right;\">4.6</td><td style = \"text-align: right;\">5.75</td><td style = \"text-align: right;\">6.39</td><td style = \"text-align: right;\">4.33</td><td style = \"text-align: left;\">2023-07-12T04:00:00</td><td style = \"text-align: right;\">474</td></tr><tr><td class = \"rowNumber\" style = \"font-weight: bold; text-align: right;\">27</td><td style = \"text-align: right;\">2879.0</td><td style = \"text-align: right;\">5.7595</td><td style = \"text-align: right;\">6.42</td><td style = \"text-align: right;\">6.75</td><td style = \"text-align: right;\">6.85</td><td style = \"text-align: right;\">4.95</td><td style = \"text-align: left;\">2023-07-13T04:00:00</td><td style = \"text-align: right;\">175</td></tr><tr><td class = \"rowNumber\" style = \"font-weight: bold; text-align: right;\">28</td><td style = \"text-align: right;\">1524.0</td><td style = \"text-align: right;\">9.1289</td><td style = \"text-align: right;\">7.0</td><td style = \"text-align: right;\">6.65</td><td style = \"text-align: right;\">12.35</td><td style = \"text-align: right;\">6.06</td><td style = \"text-align: left;\">2023-07-14T04:00:00</td><td style = \"text-align: right;\">433</td></tr><tr><td class = \"rowNumber\" style = \"font-weight: bold; text-align: right;\">29</td><td style = \"text-align: right;\">1081.0</td><td style = \"text-align: right;\">5.9514</td><td style = \"text-align: right;\">6.7</td><td style = \"text-align: right;\">8.7</td><td style = \"text-align: right;\">9.02</td><td style = \"text-align: right;\">4.3</td><td style = \"text-align: left;\">2023-07-17T04:00:00</td><td style = \"text-align: right;\">353</td></tr><tr><td class = \"rowNumber\" style = \"font-weight: bold; text-align: right;\">30</td><td style = \"text-align: right;\">921.0</td><td style = \"text-align: right;\">7.2138</td><td style = \"text-align: right;\">8.0</td><td style = \"text-align: right;\">8.05</td><td style = \"text-align: right;\">8.51</td><td style = \"text-align: right;\">5.8</td><td style = \"text-align: left;\">2023-07-18T04:00:00</td><td style = \"text-align: right;\">182</td></tr><tr><td class = \"rowNumber\" style = \"font-weight: bold; text-align: right;\">31</td><td style = \"text-align: right;\">603.0</td><td style = \"text-align: right;\">9.1943</td><td style = \"text-align: right;\">11.4</td><td style = \"text-align: right;\">6.75</td><td style = \"text-align: right;\">11.73</td><td style = \"text-align: right;\">5.9</td><td style = \"text-align: left;\">2023-07-19T04:00:00</td><td style = \"text-align: right;\">162</td></tr><tr><td class = \"rowNumber\" style = \"font-weight: bold; text-align: right;\">32</td><td style = \"text-align: right;\">8493.0</td><td style = \"text-align: right;\">1.8224</td><td style = \"text-align: right;\">5.25</td><td style = \"text-align: right;\">1.34</td><td style = \"text-align: right;\">5.5</td><td style = \"text-align: right;\">0.99</td><td style = \"text-align: left;\">2023-07-20T04:00:00</td><td style = \"text-align: right;\">1340</td></tr><tr><td class = \"rowNumber\" style = \"font-weight: bold; text-align: right;\">33</td><td style = \"text-align: right;\">27490.0</td><td style = \"text-align: right;\">1.3315</td><td style = \"text-align: right;\">1.52</td><td style = \"text-align: right;\">0.9</td><td style = \"text-align: right;\">2.3</td><td style = \"text-align: right;\">0.63</td><td style = \"text-align: left;\">2023-07-21T04:00:00</td><td style = \"text-align: right;\">3654</td></tr></tbody></table></div>"
      ],
      "text/latex": [
       "\\begin{tabular}{r|cccccccc}\n",
       "\t& volume & volume\\_weighted\\_average\\_price & open & close & high & low & timestamp & \\\\\n",
       "\t\\hline\n",
       "\t& Float64 & Float64 & Float64 & Float64 & Float64 & Float64 & DateTime & \\\\\n",
       "\t\\hline\n",
       "\t1 & 132.0 & 12.658 & 11.45 & 12.6 & 13.6 & 11.45 & 2023-06-05T04:00:00 & $\\dots$ \\\\\n",
       "\t2 & 1482.0 & 16.3047 & 12.5 & 17.3 & 17.4 & 12.5 & 2023-06-06T04:00:00 & $\\dots$ \\\\\n",
       "\t3 & 1217.0 & 15.3421 & 17.36 & 12.45 & 17.9 & 11.9 & 2023-06-07T04:00:00 & $\\dots$ \\\\\n",
       "\t4 & 532.0 & 14.826 & 12.57 & 14.65 & 15.7 & 12.15 & 2023-06-08T04:00:00 & $\\dots$ \\\\\n",
       "\t5 & 607.0 & 18.357 & 17.1 & 17.71 & 19.88 & 17.1 & 2023-06-09T04:00:00 & $\\dots$ \\\\\n",
       "\t6 & 304.0 & 20.8748 & 22.0 & 21.14 & 22.55 & 19.25 & 2023-06-12T04:00:00 & $\\dots$ \\\\\n",
       "\t7 & 718.0 & 18.4364 & 23.97 & 16.9 & 23.97 & 16.3 & 2023-06-13T04:00:00 & $\\dots$ \\\\\n",
       "\t8 & 196.0 & 18.4055 & 17.55 & 19.27 & 19.5 & 16.8 & 2023-06-14T04:00:00 & $\\dots$ \\\\\n",
       "\t9 & 229.0 & 16.1159 & 17.55 & 16.5 & 17.55 & 15.0 & 2023-06-15T04:00:00 & $\\dots$ \\\\\n",
       "\t10 & 410.0 & 13.4115 & 16.0 & 12.85 & 16.0 & 12.8 & 2023-06-16T04:00:00 & $\\dots$ \\\\\n",
       "\t11 & 315.0 & 11.745 & 12.2 & 11.76 & 13.7 & 10.97 & 2023-06-20T04:00:00 & $\\dots$ \\\\\n",
       "\t12 & 1054.0 & 7.9293 & 11.55 & 6.91 & 11.55 & 6.79 & 2023-06-21T04:00:00 & $\\dots$ \\\\\n",
       "\t13 & 11855.0 & 6.1835 & 6.91 & 5.9 & 8.06 & 5.43 & 2023-06-22T04:00:00 & $\\dots$ \\\\\n",
       "\t14 & 6590.0 & 5.2568 & 5.1 & 5.32 & 5.93 & 4.25 & 2023-06-23T04:00:00 & $\\dots$ \\\\\n",
       "\t15 & 3246.0 & 5.0625 & 5.95 & 3.95 & 6.65 & 3.9 & 2023-06-26T04:00:00 & $\\dots$ \\\\\n",
       "\t16 & 3396.0 & 4.5729 & 4.3 & 5.06 & 5.4 & 3.7 & 2023-06-27T04:00:00 & $\\dots$ \\\\\n",
       "\t17 & 6966.0 & 4.7524 & 3.9 & 4.9 & 5.8 & 3.73 & 2023-06-28T04:00:00 & $\\dots$ \\\\\n",
       "\t18 & 2819.0 & 5.3579 & 5.9 & 5.3 & 6.25 & 4.7 & 2023-06-29T04:00:00 & $\\dots$ \\\\\n",
       "\t19 & 2078.0 & 6.7789 & 6.25 & 6.61 & 7.2 & 5.95 & 2023-06-30T04:00:00 & $\\dots$ \\\\\n",
       "\t20 & 615.0 & 7.6441 & 7.5 & 7.8 & 8.5 & 6.95 & 2023-07-03T04:00:00 & $\\dots$ \\\\\n",
       "\t21 & 895.0 & 7.334 & 7.95 & 6.3 & 8.87 & 6.3 & 2023-07-05T04:00:00 & $\\dots$ \\\\\n",
       "\t22 & 986.0 & 5.1197 & 5.12 & 5.91 & 6.0 & 4.06 & 2023-07-06T04:00:00 & $\\dots$ \\\\\n",
       "\t23 & 662.0 & 6.1556 & 6.0 & 5.29 & 6.85 & 5.2 & 2023-07-07T04:00:00 & $\\dots$ \\\\\n",
       "\t24 & 1860.0 & 4.0396 & 5.01 & 5.35 & 5.39 & 3.33 & 2023-07-10T04:00:00 & $\\dots$ \\\\\n",
       "\t25 & 8423.0 & 3.5037 & 4.44 & 3.76 & 5.1 & 2.95 & 2023-07-11T04:00:00 & $\\dots$ \\\\\n",
       "\t26 & 1912.0 & 5.3105 & 4.6 & 5.75 & 6.39 & 4.33 & 2023-07-12T04:00:00 & $\\dots$ \\\\\n",
       "\t27 & 2879.0 & 5.7595 & 6.42 & 6.75 & 6.85 & 4.95 & 2023-07-13T04:00:00 & $\\dots$ \\\\\n",
       "\t28 & 1524.0 & 9.1289 & 7.0 & 6.65 & 12.35 & 6.06 & 2023-07-14T04:00:00 & $\\dots$ \\\\\n",
       "\t29 & 1081.0 & 5.9514 & 6.7 & 8.7 & 9.02 & 4.3 & 2023-07-17T04:00:00 & $\\dots$ \\\\\n",
       "\t30 & 921.0 & 7.2138 & 8.0 & 8.05 & 8.51 & 5.8 & 2023-07-18T04:00:00 & $\\dots$ \\\\\n",
       "\t$\\dots$ & $\\dots$ & $\\dots$ & $\\dots$ & $\\dots$ & $\\dots$ & $\\dots$ & $\\dots$ &  \\\\\n",
       "\\end{tabular}\n"
      ],
      "text/plain": [
       "\u001b[1m33×8 DataFrame\u001b[0m\n",
       "\u001b[1m Row \u001b[0m│\u001b[1m volume  \u001b[0m\u001b[1m volume_weighted_average_price \u001b[0m\u001b[1m open    \u001b[0m\u001b[1m close   \u001b[0m\u001b[1m high    \u001b[0m\u001b[1m low \u001b[0m ⋯\n",
       "     │\u001b[90m Float64 \u001b[0m\u001b[90m Float64                       \u001b[0m\u001b[90m Float64 \u001b[0m\u001b[90m Float64 \u001b[0m\u001b[90m Float64 \u001b[0m\u001b[90m Floa\u001b[0m ⋯\n",
       "─────┼──────────────────────────────────────────────────────────────────────────\n",
       "   1 │   132.0                        12.658     11.45    12.6     13.6     11 ⋯\n",
       "   2 │  1482.0                        16.3047    12.5     17.3     17.4     12\n",
       "   3 │  1217.0                        15.3421    17.36    12.45    17.9     11\n",
       "   4 │   532.0                        14.826     12.57    14.65    15.7     12\n",
       "   5 │   607.0                        18.357     17.1     17.71    19.88    17 ⋯\n",
       "   6 │   304.0                        20.8748    22.0     21.14    22.55    19\n",
       "   7 │   718.0                        18.4364    23.97    16.9     23.97    16\n",
       "   8 │   196.0                        18.4055    17.55    19.27    19.5     16\n",
       "   9 │   229.0                        16.1159    17.55    16.5     17.55    15 ⋯\n",
       "  10 │   410.0                        13.4115    16.0     12.85    16.0     12\n",
       "  11 │   315.0                        11.745     12.2     11.76    13.7     10\n",
       "  ⋮  │    ⋮                   ⋮                   ⋮        ⋮        ⋮        ⋮ ⋱\n",
       "  24 │  1860.0                         4.0396     5.01     5.35     5.39     3\n",
       "  25 │  8423.0                         3.5037     4.44     3.76     5.1      2 ⋯\n",
       "  26 │  1912.0                         5.3105     4.6      5.75     6.39     4\n",
       "  27 │  2879.0                         5.7595     6.42     6.75     6.85     4\n",
       "  28 │  1524.0                         9.1289     7.0      6.65    12.35     6\n",
       "  29 │  1081.0                         5.9514     6.7      8.7      9.02     4 ⋯\n",
       "  30 │   921.0                         7.2138     8.0      8.05     8.51     5\n",
       "  31 │   603.0                         9.1943    11.4      6.75    11.73     5\n",
       "  32 │  8493.0                         1.8224     5.25     1.34     5.5      0\n",
       "  33 │ 27490.0                         1.3315     1.52     0.9      2.3      0 ⋯\n",
       "\u001b[36m                                                   3 columns and 12 rows omitted\u001b[0m"
      ]
     },
     "execution_count": 18,
     "metadata": {},
     "output_type": "execute_result"
    }
   ],
   "source": [
    "AMD[110.0]"
   ]
  },
  {
   "cell_type": "markdown",
   "id": "5be2160a-06fe-443b-bef5-0f20016147e2",
   "metadata": {},
   "source": [
    "Each row is the price for that contract on that day"
   ]
  },
  {
   "cell_type": "code",
   "execution_count": null,
   "id": "d254b741-0ee3-40d4-8a69-6c56e7a2d8cb",
   "metadata": {},
   "outputs": [],
   "source": []
  }
 ],
 "metadata": {
  "kernelspec": {
   "display_name": "Julia 1.9.3",
   "language": "julia",
   "name": "julia-1.9"
  },
  "language_info": {
   "file_extension": ".jl",
   "mimetype": "application/julia",
   "name": "julia",
   "version": "1.9.3"
  }
 },
 "nbformat": 4,
 "nbformat_minor": 5
}
